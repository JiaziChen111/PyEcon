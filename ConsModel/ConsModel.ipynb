{
 "cells": [
  {
   "cell_type": "code",
   "execution_count": 1,
   "metadata": {
    "collapsed": false,
    "init_cell": true,
    "run_control": {
     "frozen": false,
     "read_only": false
    },
    "scrolled": false
   },
   "outputs": [],
   "source": [
    "%matplotlib inline\n",
    "from ipywidgets import interact, fixed,interactive\n",
    "from ipywidgets.widgets import *\n",
    "from IPython.display import display\n",
    "from matplotlib import pyplot as plt\n",
    "from ConsModel import *"
   ]
  },
  {
   "cell_type": "markdown",
   "metadata": {
    "run_control": {
     "frozen": false,
     "read_only": false
    }
   },
   "source": [
    "### 年齢"
   ]
  },
  {
   "cell_type": "code",
   "execution_count": 2,
   "metadata": {
    "collapsed": false,
    "hide_input": false,
    "init_cell": true,
    "run_control": {
     "frozen": false,
     "read_only": false
    },
    "scrolled": false
   },
   "outputs": [
    {
     "name": "stderr",
     "output_type": "stream",
     "text": [
      "Widget Javascript not detected.  It may not be installed or enabled properly.\n"
     ]
    },
    {
     "data": {
      "application/vnd.jupyter.widget-view+json": {
       "model_id": "4c9b2b2ca63f44f78af585ae79b0da64"
      }
     },
     "metadata": {},
     "output_type": "display_data"
    }
   ],
   "source": [
    "def age(Age_0,Age_r):\n",
    "    None\n",
    "AGE = interactive(age, \n",
    "                  Age_0=IntSlider(value=33,min=23,max=100,step=1,description=u'現在年齢'), \n",
    "                  Age_r=IntSlider(value=50,min=50,max=80,step=1,description=u'残存余命'),\n",
    "                 )\n",
    "display(AGE)"
   ]
  },
  {
   "cell_type": "markdown",
   "metadata": {
    "run_control": {
     "frozen": false,
     "read_only": false
    }
   },
   "source": [
    "### 結婚"
   ]
  },
  {
   "cell_type": "code",
   "execution_count": 3,
   "metadata": {
    "collapsed": false,
    "init_cell": true,
    "run_control": {
     "frozen": false,
     "read_only": false
    },
    "scrolled": false
   },
   "outputs": [
    {
     "name": "stderr",
     "output_type": "stream",
     "text": [
      "Widget Javascript not detected.  It may not be installed or enabled properly.\n"
     ]
    },
    {
     "data": {
      "application/vnd.jupyter.widget-view+json": {
       "model_id": "d1815e44c743410c955bdaca2f2b7bee"
      }
     },
     "metadata": {},
     "output_type": "display_data"
    }
   ],
   "source": [
    "def mar(Age_m,Age_d):\n",
    "    None\n",
    "MAR = interactive(mar, \n",
    "                  Age_m=IntSlider(value=28,min=0,max=100,step=1,description=u'結婚時の本人年齢（予定なしは0）'),\n",
    "                  Age_d=IntSlider(value=0,min=0,max=30,step=1,description=u'配偶者との年齢差（本人－配偶者）')\n",
    "                 )\n",
    "display(MAR)"
   ]
  },
  {
   "cell_type": "markdown",
   "metadata": {
    "run_control": {
     "frozen": false,
     "read_only": false
    }
   },
   "source": [
    "### 子ども"
   ]
  },
  {
   "cell_type": "code",
   "execution_count": 4,
   "metadata": {
    "collapsed": false,
    "init_cell": true,
    "run_control": {
     "frozen": false,
     "read_only": false
    },
    "scrolled": false
   },
   "outputs": [
    {
     "name": "stderr",
     "output_type": "stream",
     "text": [
      "Widget Javascript not detected.  It may not be installed or enabled properly.\n"
     ]
    },
    {
     "data": {
      "application/vnd.jupyter.widget-view+json": {
       "model_id": "f234ed1cba39444eb4c70f0a0a7b7234"
      }
     },
     "metadata": {},
     "output_type": "display_data"
    }
   ],
   "source": [
    "def cld(N_c):\n",
    "    None\n",
    "CLD = interactive(cld,N_c=IntSlider(value=2,min=0,max=5,step=1,description=u'子どもの数（予定含む）'))\n",
    "display(CLD)"
   ]
  },
  {
   "cell_type": "markdown",
   "metadata": {
    "run_control": {
     "frozen": false,
     "read_only": false
    }
   },
   "source": [
    "クリックして出生時の本人年齢を選択"
   ]
  },
  {
   "cell_type": "code",
   "execution_count": 5,
   "metadata": {
    "collapsed": false,
    "init_cell": true,
    "run_control": {
     "frozen": false,
     "read_only": false
    },
    "scrolled": false
   },
   "outputs": [],
   "source": [
    "def clda(submit):\n",
    "    if submit:\n",
    "        rlt=[]\n",
    "        for i in range(1,CLD.kwargs.values()[0]+1):\n",
    "            exec(\"def cldA_\"+str(i)+\"(Age_c_\"+str(i)+\"): None\")\n",
    "            exec(\"CLDA_\"+str(i)+\" = interactive(cldA_\"+str(i)+\", Age_c_\"+str(i)+\"=IntSlider(value=28,min=18,max=60,step=1,description=u'第\"+str(i)+u\"子'))\")    \n",
    "            exec(\"display(CLDA_\"+str(i)+\")\")\n",
    "            exec(\"rlt.append(CLDA_\"+str(i)+\")\")\n",
    "        return rlt\n",
    "goclda=interactive(clda,submit=ToggleButton(value=False,description=u'クリック'))\n",
    "display(goclda)"
   ]
  },
  {
   "cell_type": "markdown",
   "metadata": {
    "run_control": {
     "frozen": false,
     "read_only": false
    }
   },
   "source": [
    "クリックして子どもの私立通学の有無を選択（複数選択可、ctrl+クリックで解除）"
   ]
  },
  {
   "cell_type": "code",
   "execution_count": 6,
   "metadata": {
    "collapsed": false,
    "init_cell": true,
    "run_control": {
     "frozen": false,
     "read_only": false
    },
    "scrolled": false
   },
   "outputs": [
    {
     "data": {
      "text/plain": [
       "[<ipywidgets.widgets.interaction.interactive at 0x7f1d7d52f5d0>,\n",
       " <ipywidgets.widgets.interaction.interactive at 0x7f1d7d52f250>]"
      ]
     },
     "metadata": {},
     "output_type": "display_data"
    }
   ],
   "source": [
    "def pris(submit):\n",
    "    if submit:\n",
    "        rlt=[]\n",
    "        for i in range(1,CLD.kwargs.values()[0]+1):\n",
    "            exec(\"def pris_\"+str(i)+\"(x):pass\")\n",
    "            exec(\"PRIS_\"+str(i)+\"=interactive(pris_\"+str(i)+\", x=SelectMultiple(options=[u'小', u'中', u'高', u'大'], description=u'第\"+str(i)+u\"子'))\")\n",
    "            exec(\"display(PRIS_\"+str(i)+\")\")\n",
    "            exec(\"rlt.append(PRIS_\"+str(i)+\")\")\n",
    "        return rlt\n",
    "gopris=interactive(pris,submit=ToggleButton(value=False,description=u'クリック'))\n",
    "display(gopris)"
   ]
  },
  {
   "cell_type": "markdown",
   "metadata": {
    "run_control": {
     "frozen": false,
     "read_only": false
    }
   },
   "source": [
    "### 支出"
   ]
  },
  {
   "cell_type": "code",
   "execution_count": 7,
   "metadata": {
    "collapsed": false,
    "init_cell": true,
    "run_control": {
     "frozen": false,
     "read_only": false
    },
    "scrolled": false
   },
   "outputs": [
    {
     "name": "stderr",
     "output_type": "stream",
     "text": [
      "Widget Javascript not detected.  It may not be installed or enabled properly.\n"
     ]
    },
    {
     "data": {
      "application/vnd.jupyter.widget-view+json": {
       "model_id": "b7828d3425914f4d932d2c79a40efa38"
      }
     },
     "metadata": {},
     "output_type": "display_data"
    }
   ],
   "source": [
    "def cons(C_c0,D_n0):\n",
    "    None\n",
    "CONS = interactive(cons, \n",
    "                  C_c0=IntSlider(value=30,min=5,max=200,step=1,description=u'子育て費用と家賃を除く月間支出（万円）'),\n",
    "                  D_n0=IntSlider(value=0,min=0,max=10000,step=10,description=u'住宅以外のローン現在残高（万円）')\n",
    "                 )\n",
    "display(CONS)"
   ]
  },
  {
   "cell_type": "markdown",
   "metadata": {
    "run_control": {
     "frozen": false,
     "read_only": false
    }
   },
   "source": [
    "### 住宅"
   ]
  },
  {
   "cell_type": "code",
   "execution_count": 8,
   "metadata": {
    "collapsed": false,
    "init_cell": true,
    "run_control": {
     "frozen": false,
     "read_only": false
    },
    "scrolled": false
   },
   "outputs": [
    {
     "name": "stderr",
     "output_type": "stream",
     "text": [
      "Widget Javascript not detected.  It may not be installed or enabled properly.\n"
     ]
    },
    {
     "data": {
      "application/vnd.jupyter.widget-view+json": {
       "model_id": "af438ec47e0747aab49f25f68c803c9b"
      }
     },
     "metadata": {},
     "output_type": "display_data"
    }
   ],
   "source": [
    "def hou(Age_h, Rent_h, F_h0, D_h0):\n",
    "    None\n",
    "HOU = interactive(hou, \n",
    "                  Age_h=IntSlider(value=37,min=0,max=100,step=1,description=u'住宅購入時の本人年齢（予定なしは0）'),\n",
    "                  Rent_h=IntSlider(value=15,min=0,max=200,step=1,description=u'居住用家賃（月間、万円）'),\n",
    "                  F_h0=IntSlider(value=4000,min=0,max=30000,step=100,description=u'住宅（保有or予定）・現在評価額（万円）'),\n",
    "                  D_h0=IntSlider(value=0,min=0,max=30000,step=100,description=u'住宅ローン現在高（万円）')                                    \n",
    "                 )\n",
    "display(HOU)"
   ]
  },
  {
   "cell_type": "markdown",
   "metadata": {
    "run_control": {
     "frozen": false,
     "read_only": false
    }
   },
   "source": [
    "### 仕事"
   ]
  },
  {
   "cell_type": "code",
   "execution_count": 9,
   "metadata": {
    "collapsed": false,
    "init_cell": true,
    "run_control": {
     "frozen": false,
     "read_only": false
    },
    "scrolled": false
   },
   "outputs": [
    {
     "name": "stderr",
     "output_type": "stream",
     "text": [
      "Widget Javascript not detected.  It may not be installed or enabled properly.\n"
     ]
    },
    {
     "data": {
      "application/vnd.jupyter.widget-view+json": {
       "model_id": "f5bf60961c3c407e844f9fa1e0919b75"
      }
     },
     "metadata": {},
     "output_type": "display_data"
    }
   ],
   "source": [
    "def Workage(Age_str,Age_ret):\n",
    "    None\n",
    "WORKAGE = interactive(Workage, \n",
    "                  Age_str=IntSlider(value=24,min=18,max=30,step=1,description=u'就職開始年齢'),\n",
    "                  Age_ret=IntSlider(value=60,min=55,max=70,step=1,description=u'退職金　受取年齢')\n",
    "                 )\n",
    "display(WORKAGE)\n",
    "\n",
    "\n",
    "def wage(W_m0,W_s0):\n",
    "    None\n",
    "WAGE = interactive(wage, \n",
    "                  W_m0=IntSlider(value=500,min=0,max=4000,step=50,description=u'現役時代の平均年収（本人、万円）'),\n",
    "                  W_s0=IntSlider(value=500,min=0,max=4000,step=50,description=u'同（配偶者、万円）')\n",
    "                 )\n",
    "display(WAGE)"
   ]
  },
  {
   "cell_type": "markdown",
   "metadata": {
    "run_control": {
     "frozen": false,
     "read_only": false
    }
   },
   "source": [
    "### 資産運用"
   ]
  },
  {
   "cell_type": "code",
   "execution_count": 10,
   "metadata": {
    "collapsed": false,
    "init_cell": true,
    "run_control": {
     "frozen": false,
     "read_only": false
    },
    "scrolled": false
   },
   "outputs": [
    {
     "name": "stderr",
     "output_type": "stream",
     "text": [
      "Widget Javascript not detected.  It may not be installed or enabled properly.\n"
     ]
    },
    {
     "data": {
      "application/vnd.jupyter.widget-view+json": {
       "model_id": "809d0295715043bebe334482e5515c90"
      }
     },
     "metadata": {},
     "output_type": "display_data"
    }
   ],
   "source": [
    "def asset(A_d0, A_r0, s_r):\n",
    "    None\n",
    "ASSET = interactive(asset, \n",
    "                  A_d0=IntSlider(value=300,min=0,max=10000,step=50,description=u'現在の預金残高（万円）'),\n",
    "                  A_r0=IntSlider(value=50,min=0,max=10000,step=50,description=u'現在のリスク資産残高（万円）'),\n",
    "                  s_r=FloatSlider(value=0.2,min=0,max=1.0,step=0.05,description=u'新規貯蓄の預金・リスク資産配分')                    \n",
    "                 )\n",
    "display(ASSET)"
   ]
  },
  {
   "cell_type": "code",
   "execution_count": 11,
   "metadata": {
    "collapsed": false,
    "init_cell": true,
    "run_control": {
     "frozen": false,
     "read_only": false
    },
    "scrolled": false
   },
   "outputs": [],
   "source": [
    "def f(submit):\n",
    "    if submit:\n",
    "        # Child Ages\n",
    "        Age_c=[]\n",
    "        for i in range(CLD.kwargs.values()[0]):\n",
    "            try:\n",
    "                Age_c.append(goclda.result[i].kwargs.values()[0])\n",
    "                CLDA = {'Age_c':Age_c}\n",
    "            except:\n",
    "                print u\"子ども出生時の本人年齢を入力して下さい\"\n",
    "                CLDA={}\n",
    "                break\n",
    "\n",
    "        # Private schools\n",
    "        goprisrlt=[]\n",
    "        try:\n",
    "            for i in range(CLD.kwargs.values()[0]):\n",
    "                goprisrlt.append(gopris.result[i].kwargs.values()[0])\n",
    "            schmap={u'小':0,u'中':1,u'高':2,u'大':3}\n",
    "            psh = []\n",
    "            for p in goprisrlt:\n",
    "                for m in p:\n",
    "                    ZERO = zeros(4)\n",
    "                    ZERO[schmap[m]]=1\n",
    "                    psh.append(list(ZERO.astype('i')))\n",
    "            PSH = {'psh':psh}\n",
    "        except:\n",
    "            print u\"私立通学の有無を入力して下さい\"\n",
    "            PSH = {}\n",
    "        \n",
    "        #　Other params\n",
    "        dicts = [AGE.kwargs, MAR.kwargs, CLDA, PSH, CONS.kwargs, HOU.kwargs, WAGE.kwargs, ASSET.kwargs]\n",
    "        pars = {k: v for dic in dicts for k, v in dic.items()}\n",
    "\n",
    "        # Run\n",
    "        MOD.run(**pars)\n",
    "\n",
    "        MOD[[\"NW\",\"A\",\"D\"]].plot()"
   ]
  },
  {
   "cell_type": "code",
   "execution_count": null,
   "metadata": {
    "collapsed": true,
    "init_cell": true,
    "run_control": {
     "frozen": false,
     "read_only": false
    },
    "scrolled": false
   },
   "outputs": [],
   "source": []
  },
  {
   "cell_type": "markdown",
   "metadata": {
    "run_control": {
     "frozen": false,
     "read_only": false
    }
   },
   "source": [
    "### あなたの純資産の将来推計（インフレ率+2%前提）"
   ]
  },
  {
   "cell_type": "code",
   "execution_count": 12,
   "metadata": {
    "collapsed": false,
    "init_cell": true,
    "run_control": {
     "frozen": false,
     "read_only": false
    },
    "scrolled": false
   },
   "outputs": [
    {
     "data": {
      "image/png": "[encoded data removed]",
      "text/plain": [
       "<matplotlib.figure.Figure at 0x7f1d7d583090>"
      ]
     },
     "metadata": {},
     "output_type": "display_data"
    }
   ],
   "source": [
    "go = interact(f,submit=ToggleButton(value=False, description=u'計算する',button_style=\"success\")) "
   ]
  },
  {
   "cell_type": "markdown",
   "metadata": {
    "collapsed": false,
    "init_cell": true,
    "run_control": {
     "frozen": false,
     "read_only": false
    },
    "scrolled": false
   },
   "source": [
    "### あなたの純資産の将来推計（インフレ率0%前提）"
   ]
  },
  {
   "cell_type": "code",
   "execution_count": 13,
   "metadata": {
    "collapsed": false,
    "init_cell": true,
    "run_control": {
     "frozen": false,
     "read_only": false
    },
    "scrolled": false
   },
   "outputs": [
    {
     "data": {
      "image/png": "[encoded data removed]",
      "text/plain": [
       "<matplotlib.figure.Figure at 0x7f1d7af38190>"
      ]
     },
     "metadata": {},
     "output_type": "display_data"
    }
   ],
   "source": [
    "def fi(submit):\n",
    "    if submit:\n",
    "        # Child Ages\n",
    "        Age_c=[]\n",
    "        for i in range(CLD.kwargs.values()[0]):\n",
    "            try:\n",
    "                Age_c.append(goclda.result[i].kwargs.values()[0])\n",
    "                CLDA = {'Age_c':Age_c}\n",
    "            except:\n",
    "                print u\"子ども出生時の本人年齢を入力して下さい\"\n",
    "                CLDA={}\n",
    "                break\n",
    "\n",
    "        # Private schools\n",
    "        goprisrlt=[]\n",
    "        try:\n",
    "            for i in range(CLD.kwargs.values()[0]):\n",
    "                goprisrlt.append(gopris.result[i].kwargs.values()[0])\n",
    "            schmap={u'小':0,u'中':1,u'高':2,u'大':3}\n",
    "            psh = []\n",
    "            for p in goprisrlt:\n",
    "                for m in p:\n",
    "                    ZERO = zeros(4)\n",
    "                    ZERO[schmap[m]]=1\n",
    "                    psh.append(list(ZERO.astype('i')))\n",
    "            PSH = {'psh':psh}\n",
    "        except:\n",
    "            print u\"私立通学の有無を入力して下さい\"\n",
    "            PSH = {}\n",
    "            \n",
    "        # Inflation\n",
    "        INF = {\n",
    "            \"pi_w\" : 0.01, #マクロ賃金上昇率（年率）\n",
    "            \"pi_p\" : 0.02, #物価インフレ率\n",
    "            \"pi_h\" : 0.02, #家賃インフレ率（年率）\n",
    "            \"pi_r\" : 0.00, #実質リスク資産価格伸び率\n",
    "\n",
    "            \"i_d\" : 0.005,   #預金利子率（年率）\n",
    "            \"i_r\" : 0.015, #リスク資産（配当・分配金）利回り\n",
    "            \"i_h\" : 0.03, #住宅ローン利子率（年率）\n",
    "            \"i_n\" : 0.1, #無担保ローン利子率（年率）\n",
    "            \"i_f\" : 0.005, #リスクフリー金利\n",
    "        }\n",
    "        #　Other params\n",
    "        dicts = [AGE.kwargs, MAR.kwargs, CLDA, PSH, CONS.kwargs, HOU.kwargs, WAGE.kwargs, ASSET.kwargs, INF]\n",
    "        pars = {k: v for dic in dicts for k, v in dic.items()}\n",
    "\n",
    "        # Run\n",
    "        MOD.run(**pars)\n",
    "\n",
    "        MOD[[\"NW\",\"A\",\"D\"]].plot()\n",
    "        \n",
    "go = interact(fi,submit=ToggleButton(value=False, description=u'計算する',button_style=\"success\")) "
   ]
  },
  {
   "cell_type": "code",
   "execution_count": null,
   "metadata": {
    "collapsed": true,
    "init_cell": true,
    "run_control": {
     "frozen": false,
     "read_only": false
    },
    "scrolled": false
   },
   "outputs": [],
   "source": []
  }
 ],
 "metadata": {
  "celltoolbar": "Initialisation Cell",
  "hide_input": true,
  "kernelspec": {
   "display_name": "Python 2",
   "language": "python",
   "name": "python2"
  },
  "language_info": {
   "codemirror_mode": {
    "name": "ipython",
    "version": 2
   },
   "file_extension": ".py",
   "mimetype": "text/x-python",
   "name": "python",
   "nbconvert_exporter": "python",
   "pygments_lexer": "ipython2",
   "version": "2.7.12"
  },
  "toc": {
   "colors": {
    "hover_highlight": "#DAA520",
    "running_highlight": "#FF0000",
    "selected_highlight": "#FFD700"
   },
   "moveMenuLeft": true,
   "nav_menu": {
    "height": "155px",
    "width": "251px"
   },
   "navigate_menu": true,
   "number_sections": true,
   "sideBar": true,
   "threshold": 4,
   "toc_cell": false,
   "toc_position": {
    "height": "506px",
    "left": "0px",
    "right": "888px",
    "top": "107px",
    "width": "212px"
   },
   "toc_section_display": "block",
   "toc_window_display": true
  },
  "widgets": {
   "application/vnd.jupyter.widget-state+json": {
    "state": {
     "007b0224d71e4d758de5488841c5effa": {
      "model_module": "jupyter-js-widgets",
      "model_module_version": "*",
      "model_name": "LayoutModel",
      "state": {}
     },
     "00d8e98fb9164eb5bd0e7bc114a462ab": {
      "model_module": "jupyter-js-widgets",
      "model_module_version": "*",
      "model_name": "LayoutModel",
      "state": {}
     },
     "00e76530587d4ef3a66a1c0f8c9da6cc": {
      "model_module": "jupyter-js-widgets",
      "model_module_version": "*",
      "model_name": "LayoutModel",
      "state": {}
     },
     "03e69262419443f08de7955622d4acff": {
      "model_module": "jupyter-js-widgets",
      "model_module_version": "*",
      "model_name": "LayoutModel",
      "state": {}
     },
     "05bde98ffe604730bbf4e8272f4b364e": {
      "model_module": "jupyter-js-widgets",
      "model_module_version": "*",
      "model_name": "IntSliderModel",
      "state": {
       "description": "残存余命",
       "layout": "IPY_MODEL_e625c7fa3cc1405dace4a81fa71c6261",
       "max": 80,
       "min": 50,
       "value": 50
      }
     },
     "08ffbdd14672424c9815f961fab85916": {
      "model_module": "jupyter-js-widgets",
      "model_module_version": "*",
      "model_name": "LayoutModel",
      "state": {}
     },
     "0d8a5636fb4b443c8900ab0f91d56369": {
      "model_module": "jupyter-js-widgets",
      "model_module_version": "*",
      "model_name": "LayoutModel",
      "state": {}
     },
     "0e042f97d0b24ac398009d07a11baae6": {
      "model_module": "jupyter-js-widgets",
      "model_module_version": "*",
      "model_name": "ToggleButtonModel",
      "state": {
       "description": "クリック",
       "layout": "IPY_MODEL_542a901004b8428cbdbf831b84d662fa",
       "value": true
      }
     },
     "13a404fcefaf4453bd13ae64a1524d28": {
      "model_module": "jupyter-js-widgets",
      "model_module_version": "*",
      "model_name": "LayoutModel",
      "state": {}
     },
     "154b14c314dc43c5b8d7f8563483f0ed": {
      "model_module": "jupyter-js-widgets",
      "model_module_version": "*",
      "model_name": "LayoutModel",
      "state": {}
     },
     "157df24668aa4c91b4521fe7c60369d7": {
      "model_module": "jupyter-js-widgets",
      "model_module_version": "*",
      "model_name": "VBoxModel",
      "state": {
       "_dom_classes": [
        "widget-interact"
       ],
       "children": [
        "IPY_MODEL_356ce617434843cf9d3fadf711541448",
        "IPY_MODEL_36549bee592743b8b0f98c7ad2b5e637",
        "IPY_MODEL_6cc7aee752c64c0fa8c2a4785d41cb3e"
       ],
       "layout": "IPY_MODEL_cf0c380a474e4201a7e1be3da336925a"
      }
     },
     "179e804c06c94748bb1befec2f714630": {
      "model_module": "jupyter-js-widgets",
      "model_module_version": "*",
      "model_name": "LayoutModel",
      "state": {}
     },
     "1926978097db4b458d417947bc7f9b8d": {
      "model_module": "jupyter-js-widgets",
      "model_module_version": "*",
      "model_name": "VBoxModel",
      "state": {
       "_dom_classes": [
        "widget-interact"
       ],
       "children": [
        "IPY_MODEL_71806866c6d94f428529e43d52a7632c",
        "IPY_MODEL_c6c208e0995449a2a07b7d8a4ef43a55"
       ],
       "layout": "IPY_MODEL_26382c1eff2f47a0b121b9beb7d723e3"
      }
     },
     "1cbbc283bef64b4a969e8d82a7fc6350": {
      "model_module": "jupyter-js-widgets",
      "model_module_version": "*",
      "model_name": "LayoutModel",
      "state": {}
     },
     "206ba244710b41b2aa1c679d2d0aee49": {
      "model_module": "jupyter-js-widgets",
      "model_module_version": "*",
      "model_name": "IntSliderModel",
      "state": {
       "description": "子育て費用と家賃を除く月間支出（万円）",
       "layout": "IPY_MODEL_cbce5518b4a74978a69e2924a78ece14",
       "max": 200,
       "min": 5,
       "value": 30
      }
     },
     "2255125c45114e939f8098b7f62dfd42": {
      "model_module": "jupyter-js-widgets",
      "model_module_version": "*",
      "model_name": "OutputModel",
      "state": {
       "_dom_classes": [],
       "_model_module": "jupyter-js-widgets",
       "_model_module_version": "*",
       "_view_module": "jupyter-js-widgets",
       "_view_module_version": "*",
       "layout": "IPY_MODEL_2f6ae85945a14851b17502f872558d81",
       "msg_throttle": 1
      }
     },
     "2596ad3d06d54ad49c0225137e51bb04": {
      "model_module": "jupyter-js-widgets",
      "model_module_version": "*",
      "model_name": "IntSliderModel",
      "state": {
       "description": "住宅以外のローン現在残高（万円）",
       "layout": "IPY_MODEL_88829ac589924776abde37ba9a48092c",
       "max": 10000,
       "step": 10
      }
     },
     "26382c1eff2f47a0b121b9beb7d723e3": {
      "model_module": "jupyter-js-widgets",
      "model_module_version": "*",
      "model_name": "LayoutModel",
      "state": {}
     },
     "29e6039e91174abbb5b86ebc7d5bcda6": {
      "model_module": "jupyter-js-widgets",
      "model_module_version": "*",
      "model_name": "VBoxModel",
      "state": {
       "_dom_classes": [
        "widget-interact"
       ],
       "children": [
        "IPY_MODEL_e02b63fda0404b0fb26ada27fd2b4667",
        "IPY_MODEL_73647f7f9a874052ab8da93a0b5c6462"
       ],
       "layout": "IPY_MODEL_60a53468ffad4d17a9615c00ff43dd69"
      }
     },
     "2aca42887d2544718e761e2954b8a45c": {
      "model_module": "jupyter-js-widgets",
      "model_module_version": "*",
      "model_name": "IntSliderModel",
      "state": {
       "description": "現在のリスク資産残高（万円）",
       "layout": "IPY_MODEL_699e3b40ef234317aed8733d062d65dd",
       "max": 10000,
       "step": 50,
       "value": 50
      }
     },
     "2ba9f94c568c464d831bce0e209bd630": {
      "model_module": "jupyter-js-widgets",
      "model_module_version": "*",
      "model_name": "IntSliderModel",
      "state": {
       "description": "居住用家賃（月間、万円）",
       "layout": "IPY_MODEL_b7c3056a65964564b1af40060b50eb04",
       "max": 200,
       "value": 15
      }
     },
     "2bb75bbf8def4853a34949f68be6230b": {
      "model_module": "jupyter-js-widgets",
      "model_module_version": "*",
      "model_name": "OutputModel",
      "state": {
       "_dom_classes": [],
       "_model_module": "jupyter-js-widgets",
       "_model_module_version": "*",
       "_view_module": "jupyter-js-widgets",
       "_view_module_version": "*",
       "layout": "IPY_MODEL_8f08265cb900491193a3a94ce6913d68",
       "msg_throttle": 1
      }
     },
     "2cb7573dece442feb604ca0c34eaef8a": {
      "model_module": "jupyter-js-widgets",
      "model_module_version": "*",
      "model_name": "LayoutModel",
      "state": {}
     },
     "2d263a8143c646a2808d6243520c070f": {
      "model_module": "jupyter-js-widgets",
      "model_module_version": "*",
      "model_name": "IntSliderModel",
      "state": {
       "description": "同（配偶者、万円）",
       "layout": "IPY_MODEL_8024e0f51ff84f82bb014aca23e95f3e",
       "max": 4000,
       "step": 50,
       "value": 500
      }
     },
     "2eb50e946f7e4edc8b4d9ef993b642ae": {
      "model_module": "jupyter-js-widgets",
      "model_module_version": "*",
      "model_name": "OutputModel",
      "state": {
       "_dom_classes": [],
       "_model_module": "jupyter-js-widgets",
       "_model_module_version": "*",
       "_view_module": "jupyter-js-widgets",
       "_view_module_version": "*",
       "layout": "IPY_MODEL_6fafb3e59c0b44d4b488f8e4f486de56",
       "msg_throttle": 1
      }
     },
     "2ec6075c3fc44b10832fe602df3f1bd1": {
      "model_module": "jupyter-js-widgets",
      "model_module_version": "*",
      "model_name": "SelectMultipleModel",
      "state": {
       "_options_labels": [
        "小",
        "中",
        "高",
        "大"
       ],
       "description": "第2子",
       "layout": "IPY_MODEL_f949e5bd449244559af5d10679103d87",
       "value": []
      }
     },
     "2f6ae85945a14851b17502f872558d81": {
      "model_module": "jupyter-js-widgets",
      "model_module_version": "*",
      "model_name": "LayoutModel",
      "state": {}
     },
     "3116fd6720f7487ca528b9992967ba8a": {
      "model_module": "jupyter-js-widgets",
      "model_module_version": "*",
      "model_name": "LayoutModel",
      "state": {}
     },
     "31f58e24e1e149309fee0b986492d86c": {
      "model_module": "jupyter-js-widgets",
      "model_module_version": "*",
      "model_name": "LayoutModel",
      "state": {}
     },
     "3360b2f2dbc64ec0bedbc4ae9bcbddd3": {
      "model_module": "jupyter-js-widgets",
      "model_module_version": "*",
      "model_name": "VBoxModel",
      "state": {
       "_dom_classes": [
        "widget-interact"
       ],
       "children": [
        "IPY_MODEL_b31264896f7d4081a691cffb91097f07",
        "IPY_MODEL_2bb75bbf8def4853a34949f68be6230b"
       ],
       "layout": "IPY_MODEL_c9479cc359ef41b28277bfa4c0c45e13"
      }
     },
     "338dc99e36c04266a3981c6481b969bd": {
      "model_module": "jupyter-js-widgets",
      "model_module_version": "*",
      "model_name": "LayoutModel",
      "state": {}
     },
     "33d5d8be8cd64233820f11cf6e3261da": {
      "model_module": "jupyter-js-widgets",
      "model_module_version": "*",
      "model_name": "LayoutModel",
      "state": {}
     },
     "343008d49f0f4f8e8f9662053c01d0f0": {
      "model_module": "jupyter-js-widgets",
      "model_module_version": "*",
      "model_name": "IntSliderModel",
      "state": {
       "description": "現役時代の平均年収（本人、万円）",
       "layout": "IPY_MODEL_007b0224d71e4d758de5488841c5effa",
       "max": 4000,
       "step": 50,
       "value": 500
      }
     },
     "356ce617434843cf9d3fadf711541448": {
      "model_module": "jupyter-js-widgets",
      "model_module_version": "*",
      "model_name": "IntSliderModel",
      "state": {
       "description": "就職開始年齢",
       "layout": "IPY_MODEL_3c7f01c3eceb4ea283354b78f65e0e21",
       "max": 30,
       "min": 18,
       "value": 24
      }
     },
     "36549bee592743b8b0f98c7ad2b5e637": {
      "model_module": "jupyter-js-widgets",
      "model_module_version": "*",
      "model_name": "IntSliderModel",
      "state": {
       "description": "退職金　受取年齢",
       "layout": "IPY_MODEL_c92187e701f84999aef7109d43ccd032",
       "max": 70,
       "min": 55,
       "value": 60
      }
     },
     "3a93cefb719147c39ba648ea9c3af703": {
      "model_module": "jupyter-js-widgets",
      "model_module_version": "*",
      "model_name": "VBoxModel",
      "state": {
       "_dom_classes": [
        "widget-interact"
       ],
       "children": [
        "IPY_MODEL_bc8dd7ed160a4e909a900e5ffaab9dc7",
        "IPY_MODEL_87295d68c138444b99d08e06cdbfb42e"
       ],
       "layout": "IPY_MODEL_77803900d7d042fd88fc21fdd1d55e3e"
      }
     },
     "3c7f01c3eceb4ea283354b78f65e0e21": {
      "model_module": "jupyter-js-widgets",
      "model_module_version": "*",
      "model_name": "LayoutModel",
      "state": {}
     },
     "3f4e0bb042844c9284b397edc0a8376c": {
      "model_module": "jupyter-js-widgets",
      "model_module_version": "*",
      "model_name": "LayoutModel",
      "state": {}
     },
     "42ce9198e1b34369a1bbbeb864f2ca09": {
      "model_module": "jupyter-js-widgets",
      "model_module_version": "*",
      "model_name": "OutputModel",
      "state": {
       "_dom_classes": [],
       "_model_module": "jupyter-js-widgets",
       "_model_module_version": "*",
       "_view_module": "jupyter-js-widgets",
       "_view_module_version": "*",
       "layout": "IPY_MODEL_13a404fcefaf4453bd13ae64a1524d28",
       "msg_throttle": 1
      }
     },
     "431134e0f43045d5898095b3eab5cf8c": {
      "model_module": "jupyter-js-widgets",
      "model_module_version": "*",
      "model_name": "OutputModel",
      "state": {
       "_dom_classes": [],
       "_model_module": "jupyter-js-widgets",
       "_model_module_version": "*",
       "_view_module": "jupyter-js-widgets",
       "_view_module_version": "*",
       "layout": "IPY_MODEL_7d843641a80e45558733a8371804b422",
       "msg_throttle": 1
      }
     },
     "4773ffa6c0ce408b86067047019d58a4": {
      "model_module": "jupyter-js-widgets",
      "model_module_version": "*",
      "model_name": "LayoutModel",
      "state": {}
     },
     "4bd8ef851c074124aefc8e4b6353676e": {
      "model_module": "jupyter-js-widgets",
      "model_module_version": "*",
      "model_name": "LayoutModel",
      "state": {}
     },
     "4c45c70c958d4d32bafae9c8133fadec": {
      "model_module": "jupyter-js-widgets",
      "model_module_version": "*",
      "model_name": "LayoutModel",
      "state": {}
     },
     "4c9b2b2ca63f44f78af585ae79b0da64": {
      "model_module": "jupyter-js-widgets",
      "model_module_version": "*",
      "model_name": "VBoxModel",
      "state": {
       "_dom_classes": [
        "widget-interact"
       ],
       "children": [
        "IPY_MODEL_601a1f1e5b864f8e8b4d010c71100133",
        "IPY_MODEL_05bde98ffe604730bbf4e8272f4b364e",
        "IPY_MODEL_79fbc149653043e0bb28369058536712"
       ],
       "layout": "IPY_MODEL_154b14c314dc43c5b8d7f8563483f0ed"
      }
     },
     "4f4a3626bfdd43279714644555436438": {
      "model_module": "jupyter-js-widgets",
      "model_module_version": "*",
      "model_name": "LayoutModel",
      "state": {}
     },
     "540e5e84a56748169e9f712fd63c7fa4": {
      "model_module": "jupyter-js-widgets",
      "model_module_version": "*",
      "model_name": "IntSliderModel",
      "state": {
       "description": "住宅購入時の本人年齢（予定なしは0）",
       "layout": "IPY_MODEL_887f5ffbcbe140599d03b668e76eaccc",
       "value": 37
      }
     },
     "542a901004b8428cbdbf831b84d662fa": {
      "model_module": "jupyter-js-widgets",
      "model_module_version": "*",
      "model_name": "LayoutModel",
      "state": {}
     },
     "598d4500c3634927905a7dc6ca96d66f": {
      "model_module": "jupyter-js-widgets",
      "model_module_version": "*",
      "model_name": "OutputModel",
      "state": {
       "_dom_classes": [],
       "_model_module": "jupyter-js-widgets",
       "_model_module_version": "*",
       "_view_module": "jupyter-js-widgets",
       "_view_module_version": "*",
       "layout": "IPY_MODEL_31f58e24e1e149309fee0b986492d86c",
       "msg_throttle": 1
      }
     },
     "5c2077ab7b884633a3b68b8e7d12de10": {
      "model_module": "jupyter-js-widgets",
      "model_module_version": "*",
      "model_name": "LayoutModel",
      "state": {}
     },
     "601a1f1e5b864f8e8b4d010c71100133": {
      "model_module": "jupyter-js-widgets",
      "model_module_version": "*",
      "model_name": "IntSliderModel",
      "state": {
       "description": "現在年齢",
       "layout": "IPY_MODEL_03e69262419443f08de7955622d4acff",
       "min": 23,
       "value": 33
      }
     },
     "60a53468ffad4d17a9615c00ff43dd69": {
      "model_module": "jupyter-js-widgets",
      "model_module_version": "*",
      "model_name": "LayoutModel",
      "state": {}
     },
     "6361a873b89647a3887111203d8dee22": {
      "model_module": "jupyter-js-widgets",
      "model_module_version": "*",
      "model_name": "SelectMultipleModel",
      "state": {
       "_options_labels": [
        "小",
        "中",
        "高",
        "大"
       ],
       "description": "第1子",
       "layout": "IPY_MODEL_c142d4175f294496a8ca64b15347f1dd",
       "value": []
      }
     },
     "6381928b756a4b12b5dd0529277a0e47": {
      "model_module": "jupyter-js-widgets",
      "model_module_version": "*",
      "model_name": "VBoxModel",
      "state": {
       "_dom_classes": [
        "widget-interact"
       ],
       "children": [
        "IPY_MODEL_6361a873b89647a3887111203d8dee22",
        "IPY_MODEL_69862c3f353e4e4785022c2542b42cb3"
       ],
       "layout": "IPY_MODEL_da0ef007b31345e3b07a21b970c39bee"
      }
     },
     "69862c3f353e4e4785022c2542b42cb3": {
      "model_module": "jupyter-js-widgets",
      "model_module_version": "*",
      "model_name": "OutputModel",
      "state": {
       "_dom_classes": [],
       "_model_module": "jupyter-js-widgets",
       "_model_module_version": "*",
       "_view_module": "jupyter-js-widgets",
       "_view_module_version": "*",
       "layout": "IPY_MODEL_aeb0ab9b43c94445978fe91758f2bffe",
       "msg_throttle": 1
      }
     },
     "699e3b40ef234317aed8733d062d65dd": {
      "model_module": "jupyter-js-widgets",
      "model_module_version": "*",
      "model_name": "LayoutModel",
      "state": {}
     },
     "6cc7aee752c64c0fa8c2a4785d41cb3e": {
      "model_module": "jupyter-js-widgets",
      "model_module_version": "*",
      "model_name": "OutputModel",
      "state": {
       "_dom_classes": [],
       "_model_module": "jupyter-js-widgets",
       "_model_module_version": "*",
       "_view_module": "jupyter-js-widgets",
       "_view_module_version": "*",
       "layout": "IPY_MODEL_b4a9e39d95124c248ba4b8b8332a62a9",
       "msg_throttle": 1
      }
     },
     "6fafb3e59c0b44d4b488f8e4f486de56": {
      "model_module": "jupyter-js-widgets",
      "model_module_version": "*",
      "model_name": "LayoutModel",
      "state": {}
     },
     "71806866c6d94f428529e43d52a7632c": {
      "model_module": "jupyter-js-widgets",
      "model_module_version": "*",
      "model_name": "IntSliderModel",
      "state": {
       "description": "第2子",
       "layout": "IPY_MODEL_1cbbc283bef64b4a969e8d82a7fc6350",
       "max": 60,
       "min": 18,
       "value": 34
      }
     },
     "73647f7f9a874052ab8da93a0b5c6462": {
      "model_module": "jupyter-js-widgets",
      "model_module_version": "*",
      "model_name": "OutputModel",
      "state": {
       "_dom_classes": [],
       "_model_module": "jupyter-js-widgets",
       "_model_module_version": "*",
       "_view_module": "jupyter-js-widgets",
       "_view_module_version": "*",
       "layout": "IPY_MODEL_4c45c70c958d4d32bafae9c8133fadec",
       "msg_throttle": 1
      }
     },
     "77803900d7d042fd88fc21fdd1d55e3e": {
      "model_module": "jupyter-js-widgets",
      "model_module_version": "*",
      "model_name": "LayoutModel",
      "state": {}
     },
     "79fbc149653043e0bb28369058536712": {
      "model_module": "jupyter-js-widgets",
      "model_module_version": "*",
      "model_name": "OutputModel",
      "state": {
       "_dom_classes": [],
       "_model_module": "jupyter-js-widgets",
       "_model_module_version": "*",
       "_view_module": "jupyter-js-widgets",
       "_view_module_version": "*",
       "layout": "IPY_MODEL_0d8a5636fb4b443c8900ab0f91d56369",
       "msg_throttle": 1
      }
     },
     "7d843641a80e45558733a8371804b422": {
      "model_module": "jupyter-js-widgets",
      "model_module_version": "*",
      "model_name": "LayoutModel",
      "state": {}
     },
     "7f6ea3951e1746bebd3494394e071482": {
      "model_module": "jupyter-js-widgets",
      "model_module_version": "*",
      "model_name": "ToggleButtonModel",
      "state": {
       "button_style": "success",
       "description": "計算する",
       "layout": "IPY_MODEL_fbc693c4faec49f0a9ddb9bb585be7f0",
       "value": true
      }
     },
     "8024e0f51ff84f82bb014aca23e95f3e": {
      "model_module": "jupyter-js-widgets",
      "model_module_version": "*",
      "model_name": "LayoutModel",
      "state": {}
     },
     "809d0295715043bebe334482e5515c90": {
      "model_module": "jupyter-js-widgets",
      "model_module_version": "*",
      "model_name": "VBoxModel",
      "state": {
       "_dom_classes": [
        "widget-interact"
       ],
       "children": [
        "IPY_MODEL_ba82d947063a45779a6c86ce7ed7fd68",
        "IPY_MODEL_2aca42887d2544718e761e2954b8a45c",
        "IPY_MODEL_c37f9f5052c74bc5a185d0bcc137e607",
        "IPY_MODEL_dfb3bc3c28dc4d65819ed63a179a706a"
       ],
       "layout": "IPY_MODEL_89d745960a7e49d8887a879cf23a0cc5"
      }
     },
     "87295d68c138444b99d08e06cdbfb42e": {
      "model_module": "jupyter-js-widgets",
      "model_module_version": "*",
      "model_name": "OutputModel",
      "state": {
       "_dom_classes": [],
       "_model_module": "jupyter-js-widgets",
       "_model_module_version": "*",
       "_view_module": "jupyter-js-widgets",
       "_view_module_version": "*",
       "layout": "IPY_MODEL_f5f201f58cd44ebcbc2c0e9f0deb4bf3",
       "msg_throttle": 1
      }
     },
     "887f5ffbcbe140599d03b668e76eaccc": {
      "model_module": "jupyter-js-widgets",
      "model_module_version": "*",
      "model_name": "LayoutModel",
      "state": {}
     },
     "88829ac589924776abde37ba9a48092c": {
      "model_module": "jupyter-js-widgets",
      "model_module_version": "*",
      "model_name": "LayoutModel",
      "state": {}
     },
     "89d745960a7e49d8887a879cf23a0cc5": {
      "model_module": "jupyter-js-widgets",
      "model_module_version": "*",
      "model_name": "LayoutModel",
      "state": {}
     },
     "8d7b08f47fed4a6fae6a5c2ecffcdf87": {
      "model_module": "jupyter-js-widgets",
      "model_module_version": "*",
      "model_name": "VBoxModel",
      "state": {
       "_dom_classes": [
        "widget-interact"
       ],
       "children": [
        "IPY_MODEL_2ec6075c3fc44b10832fe602df3f1bd1",
        "IPY_MODEL_42ce9198e1b34369a1bbbeb864f2ca09"
       ],
       "layout": "IPY_MODEL_00d8e98fb9164eb5bd0e7bc114a462ab"
      }
     },
     "8e76302166784950877d6dd261563227": {
      "model_module": "jupyter-js-widgets",
      "model_module_version": "*",
      "model_name": "IntSliderModel",
      "state": {
       "description": "住宅ローン現在高（万円）",
       "layout": "IPY_MODEL_beec0ede96304fee833a29bc3630020c",
       "max": 30000,
       "step": 100
      }
     },
     "8ec5403669544c728fc04a707bb0677f": {
      "model_module": "jupyter-js-widgets",
      "model_module_version": "*",
      "model_name": "LayoutModel",
      "state": {}
     },
     "8f08265cb900491193a3a94ce6913d68": {
      "model_module": "jupyter-js-widgets",
      "model_module_version": "*",
      "model_name": "LayoutModel",
      "state": {}
     },
     "924485e0d11b43f9830d5f7e10868191": {
      "model_module": "jupyter-js-widgets",
      "model_module_version": "*",
      "model_name": "OutputModel",
      "state": {
       "_dom_classes": [],
       "_model_module": "jupyter-js-widgets",
       "_model_module_version": "*",
       "_view_module": "jupyter-js-widgets",
       "_view_module_version": "*",
       "layout": "IPY_MODEL_a8359e344d4b47e0ab6daa070c86eddd",
       "msg_throttle": 1
      }
     },
     "a000be89092a4477bd57e5bf7f845d68": {
      "model_module": "jupyter-js-widgets",
      "model_module_version": "*",
      "model_name": "LayoutModel",
      "state": {}
     },
     "a61442505fef498a921a264e62be1f05": {
      "model_module": "jupyter-js-widgets",
      "model_module_version": "*",
      "model_name": "LayoutModel",
      "state": {}
     },
     "a8359e344d4b47e0ab6daa070c86eddd": {
      "model_module": "jupyter-js-widgets",
      "model_module_version": "*",
      "model_name": "LayoutModel",
      "state": {}
     },
     "a87872b02d4d481b8738b028579ebd7a": {
      "model_module": "jupyter-js-widgets",
      "model_module_version": "*",
      "model_name": "IntSliderModel",
      "state": {
       "description": "配偶者との年齢差（本人－配偶者）",
       "layout": "IPY_MODEL_2cb7573dece442feb604ca0c34eaef8a",
       "max": 30
      }
     },
     "a8c545d6f9ca47e5a4dee62084551e2d": {
      "model_module": "jupyter-js-widgets",
      "model_module_version": "*",
      "model_name": "LayoutModel",
      "state": {}
     },
     "aba77fdb937748958bd78dfeed74e417": {
      "model_module": "jupyter-js-widgets",
      "model_module_version": "*",
      "model_name": "LayoutModel",
      "state": {}
     },
     "aeb0ab9b43c94445978fe91758f2bffe": {
      "model_module": "jupyter-js-widgets",
      "model_module_version": "*",
      "model_name": "LayoutModel",
      "state": {}
     },
     "af438ec47e0747aab49f25f68c803c9b": {
      "model_module": "jupyter-js-widgets",
      "model_module_version": "*",
      "model_name": "VBoxModel",
      "state": {
       "_dom_classes": [
        "widget-interact"
       ],
       "children": [
        "IPY_MODEL_540e5e84a56748169e9f712fd63c7fa4",
        "IPY_MODEL_2ba9f94c568c464d831bce0e209bd630",
        "IPY_MODEL_f197d253e71546dd857b18893f654e56",
        "IPY_MODEL_8e76302166784950877d6dd261563227",
        "IPY_MODEL_431134e0f43045d5898095b3eab5cf8c"
       ],
       "layout": "IPY_MODEL_8ec5403669544c728fc04a707bb0677f"
      }
     },
     "b31264896f7d4081a691cffb91097f07": {
      "model_module": "jupyter-js-widgets",
      "model_module_version": "*",
      "model_name": "IntSliderModel",
      "state": {
       "description": "第1子",
       "layout": "IPY_MODEL_179e804c06c94748bb1befec2f714630",
       "max": 60,
       "min": 18,
       "value": 30
      }
     },
     "b4a9e39d95124c248ba4b8b8332a62a9": {
      "model_module": "jupyter-js-widgets",
      "model_module_version": "*",
      "model_name": "LayoutModel",
      "state": {}
     },
     "b51caa52318c4776b2a67cbac4309429": {
      "model_module": "jupyter-js-widgets",
      "model_module_version": "*",
      "model_name": "LayoutModel",
      "state": {}
     },
     "b7828d3425914f4d932d2c79a40efa38": {
      "model_module": "jupyter-js-widgets",
      "model_module_version": "*",
      "model_name": "VBoxModel",
      "state": {
       "_dom_classes": [
        "widget-interact"
       ],
       "children": [
        "IPY_MODEL_206ba244710b41b2aa1c679d2d0aee49",
        "IPY_MODEL_2596ad3d06d54ad49c0225137e51bb04",
        "IPY_MODEL_2eb50e946f7e4edc8b4d9ef993b642ae"
       ],
       "layout": "IPY_MODEL_00e76530587d4ef3a66a1c0f8c9da6cc"
      }
     },
     "b7c3056a65964564b1af40060b50eb04": {
      "model_module": "jupyter-js-widgets",
      "model_module_version": "*",
      "model_name": "LayoutModel",
      "state": {}
     },
     "ba82d947063a45779a6c86ce7ed7fd68": {
      "model_module": "jupyter-js-widgets",
      "model_module_version": "*",
      "model_name": "IntSliderModel",
      "state": {
       "description": "現在の預金残高（万円）",
       "layout": "IPY_MODEL_aba77fdb937748958bd78dfeed74e417",
       "max": 10000,
       "step": 50,
       "value": 300
      }
     },
     "bc8dd7ed160a4e909a900e5ffaab9dc7": {
      "model_module": "jupyter-js-widgets",
      "model_module_version": "*",
      "model_name": "ToggleButtonModel",
      "state": {
       "button_style": "success",
       "description": "計算する",
       "layout": "IPY_MODEL_a000be89092a4477bd57e5bf7f845d68",
       "value": true
      }
     },
     "be4e7ebb4fa4461db52e21365be08329": {
      "model_module": "jupyter-js-widgets",
      "model_module_version": "*",
      "model_name": "LayoutModel",
      "state": {}
     },
     "beec0ede96304fee833a29bc3630020c": {
      "model_module": "jupyter-js-widgets",
      "model_module_version": "*",
      "model_name": "LayoutModel",
      "state": {}
     },
     "c142d4175f294496a8ca64b15347f1dd": {
      "model_module": "jupyter-js-widgets",
      "model_module_version": "*",
      "model_name": "LayoutModel",
      "state": {}
     },
     "c37f9f5052c74bc5a185d0bcc137e607": {
      "model_module": "jupyter-js-widgets",
      "model_module_version": "*",
      "model_name": "FloatSliderModel",
      "state": {
       "description": "新規貯蓄の預金・リスク資産配分",
       "layout": "IPY_MODEL_4f4a3626bfdd43279714644555436438",
       "max": 1,
       "step": 0.05,
       "value": 0.2
      }
     },
     "c3b5452b205d4c3b982f9c3cd2e044a4": {
      "model_module": "jupyter-js-widgets",
      "model_module_version": "*",
      "model_name": "VBoxModel",
      "state": {
       "_dom_classes": [
        "widget-interact"
       ],
       "children": [
        "IPY_MODEL_0e042f97d0b24ac398009d07a11baae6",
        "IPY_MODEL_2255125c45114e939f8098b7f62dfd42"
       ],
       "layout": "IPY_MODEL_3f4e0bb042844c9284b397edc0a8376c"
      }
     },
     "c6c208e0995449a2a07b7d8a4ef43a55": {
      "model_module": "jupyter-js-widgets",
      "model_module_version": "*",
      "model_name": "OutputModel",
      "state": {
       "_dom_classes": [],
       "_model_module": "jupyter-js-widgets",
       "_model_module_version": "*",
       "_view_module": "jupyter-js-widgets",
       "_view_module_version": "*",
       "layout": "IPY_MODEL_338dc99e36c04266a3981c6481b969bd",
       "msg_throttle": 1
      }
     },
     "c7f22316136042e4a5e212a6c09c32fb": {
      "model_module": "jupyter-js-widgets",
      "model_module_version": "*",
      "model_name": "LayoutModel",
      "state": {}
     },
     "c92187e701f84999aef7109d43ccd032": {
      "model_module": "jupyter-js-widgets",
      "model_module_version": "*",
      "model_name": "LayoutModel",
      "state": {}
     },
     "c9479cc359ef41b28277bfa4c0c45e13": {
      "model_module": "jupyter-js-widgets",
      "model_module_version": "*",
      "model_name": "LayoutModel",
      "state": {}
     },
     "cbce5518b4a74978a69e2924a78ece14": {
      "model_module": "jupyter-js-widgets",
      "model_module_version": "*",
      "model_name": "LayoutModel",
      "state": {}
     },
     "cf0c380a474e4201a7e1be3da336925a": {
      "model_module": "jupyter-js-widgets",
      "model_module_version": "*",
      "model_name": "LayoutModel",
      "state": {}
     },
     "d1815e44c743410c955bdaca2f2b7bee": {
      "model_module": "jupyter-js-widgets",
      "model_module_version": "*",
      "model_name": "VBoxModel",
      "state": {
       "_dom_classes": [
        "widget-interact"
       ],
       "children": [
        "IPY_MODEL_d4b85d74174945e2a3831cc476b50a3a",
        "IPY_MODEL_a87872b02d4d481b8738b028579ebd7a",
        "IPY_MODEL_924485e0d11b43f9830d5f7e10868191"
       ],
       "layout": "IPY_MODEL_b51caa52318c4776b2a67cbac4309429"
      }
     },
     "d4b85d74174945e2a3831cc476b50a3a": {
      "model_module": "jupyter-js-widgets",
      "model_module_version": "*",
      "model_name": "IntSliderModel",
      "state": {
       "description": "結婚時の本人年齢（予定なしは0）",
       "layout": "IPY_MODEL_3116fd6720f7487ca528b9992967ba8a",
       "value": 28
      }
     },
     "da0ef007b31345e3b07a21b970c39bee": {
      "model_module": "jupyter-js-widgets",
      "model_module_version": "*",
      "model_name": "LayoutModel",
      "state": {}
     },
     "dfb3bc3c28dc4d65819ed63a179a706a": {
      "model_module": "jupyter-js-widgets",
      "model_module_version": "*",
      "model_name": "OutputModel",
      "state": {
       "_dom_classes": [],
       "_model_module": "jupyter-js-widgets",
       "_model_module_version": "*",
       "_view_module": "jupyter-js-widgets",
       "_view_module_version": "*",
       "layout": "IPY_MODEL_a8c545d6f9ca47e5a4dee62084551e2d",
       "msg_throttle": 1
      }
     },
     "e02b63fda0404b0fb26ada27fd2b4667": {
      "model_module": "jupyter-js-widgets",
      "model_module_version": "*",
      "model_name": "ToggleButtonModel",
      "state": {
       "description": "クリック",
       "layout": "IPY_MODEL_c7f22316136042e4a5e212a6c09c32fb",
       "value": true
      }
     },
     "e625c7fa3cc1405dace4a81fa71c6261": {
      "model_module": "jupyter-js-widgets",
      "model_module_version": "*",
      "model_name": "LayoutModel",
      "state": {}
     },
     "f197d253e71546dd857b18893f654e56": {
      "model_module": "jupyter-js-widgets",
      "model_module_version": "*",
      "model_name": "IntSliderModel",
      "state": {
       "description": "住宅（保有or予定）・現在評価額（万円）",
       "layout": "IPY_MODEL_a61442505fef498a921a264e62be1f05",
       "max": 30000,
       "step": 100,
       "value": 4000
      }
     },
     "f19fea7936df48e4bb4c2065d497fc31": {
      "model_module": "jupyter-js-widgets",
      "model_module_version": "*",
      "model_name": "OutputModel",
      "state": {
       "_dom_classes": [],
       "_model_module": "jupyter-js-widgets",
       "_model_module_version": "*",
       "_view_module": "jupyter-js-widgets",
       "_view_module_version": "*",
       "layout": "IPY_MODEL_4bd8ef851c074124aefc8e4b6353676e",
       "msg_throttle": 1
      }
     },
     "f234ed1cba39444eb4c70f0a0a7b7234": {
      "model_module": "jupyter-js-widgets",
      "model_module_version": "*",
      "model_name": "VBoxModel",
      "state": {
       "_dom_classes": [
        "widget-interact"
       ],
       "children": [
        "IPY_MODEL_f5f588be8ad142a483e3081f52e4e464",
        "IPY_MODEL_f38e7af07012422db4330d742733dfcd"
       ],
       "layout": "IPY_MODEL_be4e7ebb4fa4461db52e21365be08329"
      }
     },
     "f38e7af07012422db4330d742733dfcd": {
      "model_module": "jupyter-js-widgets",
      "model_module_version": "*",
      "model_name": "OutputModel",
      "state": {
       "_dom_classes": [],
       "_model_module": "jupyter-js-widgets",
       "_model_module_version": "*",
       "_view_module": "jupyter-js-widgets",
       "_view_module_version": "*",
       "layout": "IPY_MODEL_08ffbdd14672424c9815f961fab85916",
       "msg_throttle": 1
      }
     },
     "f5bf60961c3c407e844f9fa1e0919b75": {
      "model_module": "jupyter-js-widgets",
      "model_module_version": "*",
      "model_name": "VBoxModel",
      "state": {
       "_dom_classes": [
        "widget-interact"
       ],
       "children": [
        "IPY_MODEL_343008d49f0f4f8e8f9662053c01d0f0",
        "IPY_MODEL_2d263a8143c646a2808d6243520c070f",
        "IPY_MODEL_598d4500c3634927905a7dc6ca96d66f"
       ],
       "layout": "IPY_MODEL_33d5d8be8cd64233820f11cf6e3261da"
      }
     },
     "f5f201f58cd44ebcbc2c0e9f0deb4bf3": {
      "model_module": "jupyter-js-widgets",
      "model_module_version": "*",
      "model_name": "LayoutModel",
      "state": {}
     },
     "f5f588be8ad142a483e3081f52e4e464": {
      "model_module": "jupyter-js-widgets",
      "model_module_version": "*",
      "model_name": "IntSliderModel",
      "state": {
       "description": "子どもの数（予定含む）",
       "layout": "IPY_MODEL_4773ffa6c0ce408b86067047019d58a4",
       "max": 5,
       "value": 2
      }
     },
     "f699c88d93184846af6de0a497f1a69e": {
      "model_module": "jupyter-js-widgets",
      "model_module_version": "*",
      "model_name": "VBoxModel",
      "state": {
       "_dom_classes": [
        "widget-interact"
       ],
       "children": [
        "IPY_MODEL_7f6ea3951e1746bebd3494394e071482",
        "IPY_MODEL_f19fea7936df48e4bb4c2065d497fc31"
       ],
       "layout": "IPY_MODEL_5c2077ab7b884633a3b68b8e7d12de10"
      }
     },
     "f949e5bd449244559af5d10679103d87": {
      "model_module": "jupyter-js-widgets",
      "model_module_version": "*",
      "model_name": "LayoutModel",
      "state": {}
     },
     "fbc693c4faec49f0a9ddb9bb585be7f0": {
      "model_module": "jupyter-js-widgets",
      "model_module_version": "*",
      "model_name": "LayoutModel",
      "state": {}
     }
    },
    "version_major": 1,
    "version_minor": 0
   }
  }
 },
 "nbformat": 4,
 "nbformat_minor": 2
}
