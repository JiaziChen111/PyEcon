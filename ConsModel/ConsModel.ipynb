{
 "cells": [
  {
   "cell_type": "code",
   "execution_count": 63,
   "metadata": {
    "collapsed": false,
    "init_cell": true,
    "run_control": {
     "frozen": false,
     "read_only": false
    },
    "scrolled": false
   },
   "outputs": [],
   "source": [
    "%matplotlib inline\n",
    "from ipywidgets import interact, fixed,interactive\n",
    "from ipywidgets.widgets import *\n",
    "from IPython.display import display\n",
    "from matplotlib import pyplot as plt\n",
    "from ConsModel import *"
   ]
  },
  {
   "cell_type": "markdown",
   "metadata": {
    "run_control": {
     "frozen": false,
     "read_only": false
    }
   },
   "source": [
    "### 年齢"
   ]
  },
  {
   "cell_type": "code",
   "execution_count": 64,
   "metadata": {
    "collapsed": false,
    "init_cell": true,
    "run_control": {
     "frozen": false,
     "read_only": false
    },
    "scrolled": false
   },
   "outputs": [],
   "source": [
    "def age(Age_0,Age_r):\n",
    "    None\n",
    "AGE = interactive(age, \n",
    "                  Age_0=IntSlider(value=33,min=23,max=100,step=1,description=u'現在年齢'), \n",
    "                  Age_r=IntSlider(value=50,min=50,max=80,step=1,description=u'残存余命'),\n",
    "                 )\n",
    "display(AGE)"
   ]
  },
  {
   "cell_type": "markdown",
   "metadata": {
    "run_control": {
     "frozen": false,
     "read_only": false
    }
   },
   "source": [
    "### 結婚"
   ]
  },
  {
   "cell_type": "code",
   "execution_count": 65,
   "metadata": {
    "collapsed": true,
    "init_cell": true,
    "run_control": {
     "frozen": false,
     "read_only": false
    },
    "scrolled": false
   },
   "outputs": [],
   "source": [
    "def mar(Age_m,Age_d):\n",
    "    None\n",
    "MAR = interactive(mar, \n",
    "                  Age_m=IntSlider(value=28,min=0,max=100,step=1,description=u'結婚時の本人年齢（予定なしは0）'),\n",
    "                  Age_d=IntSlider(value=0,min=0,max=30,step=1,description=u'配偶者との年齢差（本人－配偶者）')\n",
    "                 )\n",
    "display(MAR)"
   ]
  },
  {
   "cell_type": "markdown",
   "metadata": {
    "run_control": {
     "frozen": false,
     "read_only": false
    }
   },
   "source": [
    "### 子ども"
   ]
  },
  {
   "cell_type": "code",
   "execution_count": 66,
   "metadata": {
    "collapsed": false,
    "init_cell": true,
    "run_control": {
     "frozen": false,
     "read_only": false
    },
    "scrolled": false
   },
   "outputs": [],
   "source": [
    "def cld(N_c):\n",
    "    None\n",
    "CLD = interactive(cld,N_c=IntSlider(value=2,min=0,max=5,step=1,description=u'子どもの数（予定含む）'))\n",
    "display(CLD)"
   ]
  },
  {
   "cell_type": "markdown",
   "metadata": {
    "run_control": {
     "frozen": false,
     "read_only": false
    }
   },
   "source": [
    "クリックして出生時の本人年齢を選択"
   ]
  },
  {
   "cell_type": "code",
   "execution_count": 67,
   "metadata": {
    "collapsed": false,
    "init_cell": true,
    "run_control": {
     "frozen": false,
     "read_only": false
    },
    "scrolled": false
   },
   "outputs": [],
   "source": [
    "def clda(submit):\n",
    "    if submit:\n",
    "        rlt=[]\n",
    "        for i in range(1,CLD.kwargs.values()[0]+1):\n",
    "            exec(\"def cldA_\"+str(i)+\"(Age_c_\"+str(i)+\"): None\")\n",
    "            exec(\"CLDA_\"+str(i)+\" = interactive(cldA_\"+str(i)+\", Age_c_\"+str(i)+\"=IntSlider(value=28,min=18,max=60,step=1,description=u'第\"+str(i)+u\"子'))\")    \n",
    "            exec(\"display(CLDA_\"+str(i)+\")\")\n",
    "            exec(\"rlt.append(CLDA_\"+str(i)+\")\")\n",
    "        return rlt\n",
    "goclda=interactive(clda,submit=ToggleButton(value=False,description=u'クリック'))\n",
    "display(goclda)"
   ]
  },
  {
   "cell_type": "markdown",
   "metadata": {
    "run_control": {
     "frozen": false,
     "read_only": false
    }
   },
   "source": [
    "クリックして子どもの私立通学の有無を選択（複数選択可、ctrl+クリックで解除）"
   ]
  },
  {
   "cell_type": "code",
   "execution_count": 68,
   "metadata": {
    "collapsed": false,
    "init_cell": true,
    "run_control": {
     "frozen": false,
     "read_only": false
    },
    "scrolled": false
   },
   "outputs": [
    {
     "data": {
      "text/plain": [
       "[<ipywidgets.widgets.widget_box.Box at 0x7fbea4783190>,\n",
       " <ipywidgets.widgets.widget_box.Box at 0x7fbea47836d0>]"
      ]
     },
     "metadata": {},
     "output_type": "display_data"
    }
   ],
   "source": [
    "def pris(submit):\n",
    "    if submit:\n",
    "        rlt=[]\n",
    "        for i in range(1,CLD.kwargs.values()[0]+1):\n",
    "            exec(\"def pris_\"+str(i)+\"(x):pass\")\n",
    "            exec(\"PRIS_\"+str(i)+\"=interactive(pris_\"+str(i)+\", x=SelectMultiple(options=[u'小', u'中', u'高', u'大'], description=u'第\"+str(i)+u\"子'))\")\n",
    "            exec(\"display(PRIS_\"+str(i)+\")\")\n",
    "            exec(\"rlt.append(PRIS_\"+str(i)+\")\")\n",
    "        return rlt\n",
    "gopris=interactive(pris,submit=ToggleButton(value=False,description=u'クリック'))\n",
    "display(gopris)"
   ]
  },
  {
   "cell_type": "markdown",
   "metadata": {
    "run_control": {
     "frozen": false,
     "read_only": false
    }
   },
   "source": [
    "### 支出"
   ]
  },
  {
   "cell_type": "code",
   "execution_count": 69,
   "metadata": {
    "collapsed": true,
    "init_cell": true,
    "run_control": {
     "frozen": false,
     "read_only": false
    },
    "scrolled": false
   },
   "outputs": [],
   "source": [
    "def cons(C_c0,D_n0):\n",
    "    None\n",
    "CONS = interactive(cons, \n",
    "                  C_c0=IntSlider(value=30,min=5,max=200,step=1,description=u'子育て費用と家賃を除く月間支出（万円）'),\n",
    "                  D_n0=IntSlider(value=0,min=0,max=10000,step=10,description=u'住宅以外のローン現在残高（万円）')\n",
    "                 )\n",
    "display(CONS)"
   ]
  },
  {
   "cell_type": "markdown",
   "metadata": {
    "run_control": {
     "frozen": false,
     "read_only": false
    }
   },
   "source": [
    "### 住宅"
   ]
  },
  {
   "cell_type": "code",
   "execution_count": 70,
   "metadata": {
    "collapsed": false,
    "init_cell": true,
    "run_control": {
     "frozen": false,
     "read_only": false
    },
    "scrolled": false
   },
   "outputs": [],
   "source": [
    "def hou(Age_h, Rent_h, F_h0, D_h0):\n",
    "    None\n",
    "HOU = interactive(hou, \n",
    "                  Age_h=IntSlider(value=37,min=0,max=100,step=1,description=u'住宅購入時の本人年齢（予定なしは0）'),\n",
    "                  Rent_h=IntSlider(value=15,min=0,max=200,step=1,description=u'居住用家賃（月間、万円）'),\n",
    "                  F_h0=IntSlider(value=4000,min=0,max=30000,step=100,description=u'住宅（保有or予定）・現在評価額（万円）'),\n",
    "                  D_h0=IntSlider(value=0,min=0,max=30000,step=100,description=u'住宅ローン現在高（万円）')                                    \n",
    "                 )\n",
    "display(HOU)"
   ]
  },
  {
   "cell_type": "markdown",
   "metadata": {
    "run_control": {
     "frozen": false,
     "read_only": false
    }
   },
   "source": [
    "### 仕事"
   ]
  },
  {
   "cell_type": "code",
   "execution_count": 75,
   "metadata": {
    "collapsed": true,
    "init_cell": true,
    "run_control": {
     "frozen": false,
     "read_only": false
    },
    "scrolled": false
   },
   "outputs": [],
   "source": [
    "def Workage(Age_str,Age_ret):\n",
    "    None\n",
    "WORKAGE = interactive(Workage, \n",
    "                  Age_str=IntSlider(value=24,min=18,max=30,step=1,description=u'就職開始年齢'),\n",
    "                  Age_ret=IntSlider(value=60,min=55,max=70,step=1,description=u'退職金　受取年齢')\n",
    "                 )\n",
    "display(WORKAGE)\n",
    "\n",
    "\n",
    "def wage(W_m0,W_s0):\n",
    "    None\n",
    "WAGE = interactive(wage, \n",
    "                  W_m0=IntSlider(value=500,min=0,max=4000,step=50,description=u'現役時代の平均年収（本人、万円）'),\n",
    "                  W_s0=IntSlider(value=500,min=0,max=4000,step=50,description=u'同（配偶者、万円）')\n",
    "                 )\n",
    "display(WAGE)"
   ]
  },
  {
   "cell_type": "markdown",
   "metadata": {
    "run_control": {
     "frozen": false,
     "read_only": false
    }
   },
   "source": [
    "### 資産運用"
   ]
  },
  {
   "cell_type": "code",
   "execution_count": 72,
   "metadata": {
    "collapsed": false,
    "init_cell": true,
    "run_control": {
     "frozen": false,
     "read_only": false
    },
    "scrolled": false
   },
   "outputs": [],
   "source": [
    "def asset(A_d0, A_r0, s_r):\n",
    "    None\n",
    "ASSET = interactive(asset, \n",
    "                  A_d0=IntSlider(value=300,min=0,max=10000,step=50,description=u'現在の預金残高（万円）'),\n",
    "                  A_r0=IntSlider(value=50,min=0,max=10000,step=50,description=u'現在のリスク資産残高（万円）'),\n",
    "                  s_r=FloatSlider(value=0.2,min=0,max=1.0,step=0.05,description=u'新規貯蓄の預金・リスク資産配分')                    \n",
    "                 )\n",
    "display(ASSET)"
   ]
  },
  {
   "cell_type": "code",
   "execution_count": 77,
   "metadata": {
    "collapsed": false,
    "init_cell": true,
    "run_control": {
     "frozen": false,
     "read_only": false
    },
    "scrolled": false
   },
   "outputs": [],
   "source": [
    "def f(submit):\n",
    "    if submit:\n",
    "        # Child Ages\n",
    "        Age_c=[]\n",
    "        for i in range(CLD.kwargs.values()[0]):\n",
    "            try:\n",
    "                Age_c.append(goclda.result[i].kwargs.values()[0])\n",
    "                CLDA = {'Age_c':Age_c}\n",
    "            except:\n",
    "                print u\"子ども出生時の本人年齢を入力して下さい\"\n",
    "                CLDA={}\n",
    "                break\n",
    "\n",
    "        # Private schools\n",
    "        goprisrlt=[]\n",
    "        try:\n",
    "            for i in range(CLD.kwargs.values()[0]):\n",
    "                goprisrlt.append(gopris.result[i].kwargs.values()[0])\n",
    "            schmap={u'小':0,u'中':1,u'高':2,u'大':3}\n",
    "            psh = []\n",
    "            for p in goprisrlt:\n",
    "                for m in p:\n",
    "                    ZERO = zeros(4)\n",
    "                    ZERO[schmap[m]]=1\n",
    "                    psh.append(list(ZERO.astype('i')))\n",
    "            PSH = {'psh':psh}\n",
    "        except:\n",
    "            print u\"私立通学の有無を入力して下さい\"\n",
    "            PSH = {}\n",
    "        \n",
    "        #　Other params\n",
    "        dicts = [AGE.kwargs, MAR.kwargs, CLDA, PSH, CONS.kwargs, HOU.kwargs, WAGE.kwargs, ASSET.kwargs]\n",
    "        pars = {k: v for dic in dicts for k, v in dic.items()}\n",
    "\n",
    "        # Run\n",
    "        MOD.run(**pars)\n",
    "\n",
    "        MOD[[\"NW\",\"A\",\"D\"]].plot()"
   ]
  },
  {
   "cell_type": "code",
   "execution_count": null,
   "metadata": {
    "collapsed": true,
    "init_cell": true,
    "run_control": {
     "frozen": false,
     "read_only": false
    },
    "scrolled": false
   },
   "outputs": [],
   "source": []
  },
  {
   "cell_type": "markdown",
   "metadata": {
    "run_control": {
     "frozen": false,
     "read_only": false
    }
   },
   "source": [
    "### あなたの純資産の将来推計（インフレ率+2%前提）"
   ]
  },
  {
   "cell_type": "code",
   "execution_count": 78,
   "metadata": {
    "collapsed": false,
    "init_cell": true,
    "run_control": {
     "frozen": false,
     "read_only": false
    },
    "scrolled": false
   },
   "outputs": [
    {
     "data": {
      "image/png": "[encoded data removed]",
      "text/plain": [
       "<matplotlib.figure.Figure at 0x7fbea1b0f590>"
      ]
     },
     "metadata": {},
     "output_type": "display_data"
    }
   ],
   "source": [
    "go = interact(f,submit=ToggleButton(value=False, description=u'計算する',button_style=\"success\")) "
   ]
  },
  {
   "cell_type": "markdown",
   "metadata": {
    "collapsed": false,
    "init_cell": true,
    "run_control": {
     "frozen": false,
     "read_only": false
    },
    "scrolled": false
   },
   "source": [
    "### あなたの純資産の将来推計（インフレ率0%前提）"
   ]
  },
  {
   "cell_type": "code",
   "execution_count": 79,
   "metadata": {
    "collapsed": false,
    "init_cell": true,
    "run_control": {
     "frozen": false,
     "read_only": false
    },
    "scrolled": false
   },
   "outputs": [
    {
     "data": {
      "image/png": "[encoded data removed]",
      "text/plain": [
       "<matplotlib.figure.Figure at 0x7fbea1b0f610>"
      ]
     },
     "metadata": {},
     "output_type": "display_data"
    }
   ],
   "source": [
    "def fi(submit):\n",
    "    if submit:\n",
    "        # Child Ages\n",
    "        Age_c=[]\n",
    "        for i in range(CLD.kwargs.values()[0]):\n",
    "            try:\n",
    "                Age_c.append(goclda.result[i].kwargs.values()[0])\n",
    "                CLDA = {'Age_c':Age_c}\n",
    "            except:\n",
    "                print u\"子ども出生時の本人年齢を入力して下さい\"\n",
    "                CLDA={}\n",
    "                break\n",
    "\n",
    "        # Private schools\n",
    "        goprisrlt=[]\n",
    "        try:\n",
    "            for i in range(CLD.kwargs.values()[0]):\n",
    "                goprisrlt.append(gopris.result[i].kwargs.values()[0])\n",
    "            schmap={u'小':0,u'中':1,u'高':2,u'大':3}\n",
    "            psh = []\n",
    "            for p in goprisrlt:\n",
    "                for m in p:\n",
    "                    ZERO = zeros(4)\n",
    "                    ZERO[schmap[m]]=1\n",
    "                    psh.append(list(ZERO.astype('i')))\n",
    "            PSH = {'psh':psh}\n",
    "        except:\n",
    "            print u\"私立通学の有無を入力して下さい\"\n",
    "            PSH = {}\n",
    "            \n",
    "        # Inflation\n",
    "        INF = {\n",
    "            \"pi_w\" : 0.01, #マクロ賃金上昇率（年率）\n",
    "            \"pi_p\" : 0.02, #物価インフレ率\n",
    "            \"pi_h\" : 0.02, #家賃インフレ率（年率）\n",
    "            \"pi_r\" : 0.00, #実質リスク資産価格伸び率\n",
    "\n",
    "            \"i_d\" : 0.005,   #預金利子率（年率）\n",
    "            \"i_r\" : 0.015, #リスク資産（配当・分配金）利回り\n",
    "            \"i_h\" : 0.03, #住宅ローン利子率（年率）\n",
    "            \"i_n\" : 0.1, #無担保ローン利子率（年率）\n",
    "            \"i_f\" : 0.005, #リスクフリー金利\n",
    "        }\n",
    "        #　Other params\n",
    "        dicts = [AGE.kwargs, MAR.kwargs, CLDA, PSH, CONS.kwargs, HOU.kwargs, WAGE.kwargs, ASSET.kwargs, INF]\n",
    "        pars = {k: v for dic in dicts for k, v in dic.items()}\n",
    "\n",
    "        # Run\n",
    "        MOD.run(**pars)\n",
    "\n",
    "        MOD[[\"NW\",\"A\",\"D\"]].plot()\n",
    "        \n",
    "go = interact(fi,submit=ToggleButton(value=False, description=u'計算する',button_style=\"success\")) "
   ]
  },
  {
   "cell_type": "code",
   "execution_count": null,
   "metadata": {
    "collapsed": true,
    "init_cell": true,
    "run_control": {
     "frozen": false,
     "read_only": false
    },
    "scrolled": false
   },
   "outputs": [],
   "source": []
  }
 ],
 "metadata": {
  "celltoolbar": "Initialisation Cell",
  "hide_input": false,
  "kernelspec": {
   "display_name": "Python 2",
   "language": "python",
   "name": "python2"
  },
  "language_info": {
   "codemirror_mode": {
    "name": "ipython",
    "version": 2
   },
   "file_extension": ".py",
   "mimetype": "text/x-python",
   "name": "python",
   "nbconvert_exporter": "python",
   "pygments_lexer": "ipython2",
   "version": "2.7.12"
  },
  "toc": {
   "colors": {
    "hover_highlight": "#DAA520",
    "running_highlight": "#FF0000",
    "selected_highlight": "#FFD700"
   },
   "moveMenuLeft": true,
   "nav_menu": {
    "height": "155px",
    "width": "251px"
   },
   "navigate_menu": true,
   "number_sections": true,
   "sideBar": true,
   "threshold": 4,
   "toc_cell": false,
   "toc_position": {
    "height": "506px",
    "left": "0px",
    "right": "888px",
    "top": "107px",
    "width": "212px"
   },
   "toc_section_display": "block",
   "toc_window_display": true
  },
  "widgets": {
   "state": {
    "41e15a26e1f3453583ae686aae55da24": {
     "views": [
      {
       "cell_index": 18
      }
     ]
    },
    "46563904a8394669bb4cb69de0a9f6f9": {
     "views": [
      {
       "cell_index": 22
      }
     ]
    },
    "62f06ae2ab97497fb792a8be30c8a87d": {
     "views": [
      {
       "cell_index": 20
      }
     ]
    },
    "83aca9ac0b7d40a69d2fcdaab61d73ba": {
     "views": [
      {
       "cell_index": 6
      }
     ]
    },
    "950f248c032b497ea6626bf66653cd09": {
     "views": [
      {
       "cell_index": 27
      }
     ]
    },
    "95eeb4db23ad40e0bb39e5459c281fd7": {
     "views": [
      {
       "cell_index": 20
      }
     ]
    },
    "a1fc5992a9b040d79edfe00d0d71fddc": {
     "views": [
      {
       "cell_index": 11
      }
     ]
    },
    "a947d46b405c4041bd9cb6c45811a9bc": {
     "views": [
      {
       "cell_index": 4
      }
     ]
    },
    "baf8eb375a4143d0b56bafe8ed64e7d4": {
     "views": [
      {
       "cell_index": 16
      }
     ]
    },
    "c26dda402bcd433c99837f7f16686dab": {
     "views": [
      {
       "cell_index": 11
      }
     ]
    },
    "cb0c4a150e084f2cb56d22362bd28e00": {
     "views": [
      {
       "cell_index": 8
      }
     ]
    },
    "da13b9ccad0a4f029ad9d8cd36350e60": {
     "views": [
      {
       "cell_index": 8
      }
     ]
    },
    "dd8bab68f2974e218b874ece7d46e576": {
     "views": [
      {
       "cell_index": 11
      }
     ]
    },
    "df14302b73e94602a1ca0c403d628c5f": {
     "views": [
      {
       "cell_index": 8
      }
     ]
    },
    "f1f42acd818a439297c2e090ce71cffc": {
     "views": [
      {
       "cell_index": 2
      }
     ]
    }
   },
   "version": "1.2.0"
  }
 },
 "nbformat": 4,
 "nbformat_minor": 2
}
